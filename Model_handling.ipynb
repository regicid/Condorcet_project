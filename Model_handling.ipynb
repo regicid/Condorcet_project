{
 "cells": [
  {
   "cell_type": "code",
   "execution_count": null,
   "metadata": {},
   "outputs": [
    {
     "data": {
      "application/vnd.jupyter.widget-view+json": {
       "model_id": "09980996c1654bb9b35ee7e94aaa7607",
       "version_major": 2,
       "version_minor": 0
      },
      "text/plain": [
       "HBox(children=(HTML(value=''), FloatProgress(value=0.0, max=1000.0), HTML(value='')))"
      ]
     },
     "metadata": {},
     "output_type": "display_data"
    }
   ],
   "source": [
    "from classs import CurtyMarsili # Imports the model's class\n",
    "CM = CurtyMarsili(z=.9,p=.55,N=1000,tqdm=True) # Initiates the class \n",
    "#(z is the initial proportion of followers, p the informed accuracy, N the number of players)\n",
    "CM.dynamics(1000) # Runs 1000 time steps"
   ]
  },
  {
   "cell_type": "code",
   "source": [
    "import matplotlib.pyplot as plt\n",
    "plt.plot(CM.N_f)\n",
    "plt.xlabel(\"Time\")\n",
    "plt.ylabel(\"Number of followers\")"
   ]
  },
  {
   "cell_type": "code",
   "source": [
    "plt.plot(CM.prop_i)\n",
    "plt.xlabel(\"Time\")\n",
    "plt.ylabel(\"Informed audience share (s)\")"
   ]
  }
 ],
 "metadata": {
  "kernelspec": {
   "display_name": "Python 3",
   "language": "python",
   "name": "python3"
  },
  "language_info": {
   "codemirror_mode": {
    "name": "ipython",
    "version": 3
   },
   "file_extension": ".py",
   "mimetype": "text/x-python",
   "name": "python",
   "nbconvert_exporter": "python",
   "pygments_lexer": "ipython3",
   "version": "3.8.5"
  }
 },
 "nbformat": 4,
 "nbformat_minor": 4
}
